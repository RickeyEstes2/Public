{
  "nbformat": 4,
  "nbformat_minor": 0,
  "metadata": {
    "colab": {
      "provenance": [],
      "authorship_tag": "ABX9TyO+AWw5vOvj++mvzUoiZBP6",
      "include_colab_link": true
    },
    "kernelspec": {
      "name": "python3",
      "display_name": "Python 3"
    },
    "language_info": {
      "name": "python"
    }
  },
  "cells": [
    {
      "cell_type": "markdown",
      "metadata": {
        "id": "view-in-github",
        "colab_type": "text"
      },
      "source": [
        "<a href=\"https://colab.research.google.com/github/RickeyEstes2/Public/blob/main/nltk_pos_tag2txt2.ipynb\" target=\"_parent\"><img src=\"https://colab.research.google.com/assets/colab-badge.svg\" alt=\"Open In Colab\"/></a>"
      ]
    },
    {
      "cell_type": "code",
      "execution_count": 24,
      "metadata": {
        "colab": {
          "base_uri": "https://localhost:8080/"
        },
        "id": "06E6HYrGr-ff",
        "outputId": "418eb331-46b2-4475-858e-3856f4437f60"
      },
      "outputs": [
        {
          "output_type": "stream",
          "name": "stdout",
          "text": [
            "Looking in indexes: https://pypi.org/simple, https://us-python.pkg.dev/colab-wheels/public/simple/\n",
            "Requirement already satisfied: nltk in /usr/local/lib/python3.7/dist-packages (3.7)\n",
            "Requirement already satisfied: tqdm in /usr/local/lib/python3.7/dist-packages (from nltk) (4.64.1)\n",
            "Requirement already satisfied: regex>=2021.8.3 in /usr/local/lib/python3.7/dist-packages (from nltk) (2022.6.2)\n",
            "Requirement already satisfied: joblib in /usr/local/lib/python3.7/dist-packages (from nltk) (1.2.0)\n",
            "Requirement already satisfied: click in /usr/local/lib/python3.7/dist-packages (from nltk) (7.1.2)\n",
            "Looking in indexes: https://pypi.org/simple, https://us-python.pkg.dev/colab-wheels/public/simple/\n",
            "Requirement already satisfied: scikit-learn in /usr/local/lib/python3.7/dist-packages (1.0.2)\n",
            "Requirement already satisfied: joblib>=0.11 in /usr/local/lib/python3.7/dist-packages (from scikit-learn) (1.2.0)\n",
            "Requirement already satisfied: numpy>=1.14.6 in /usr/local/lib/python3.7/dist-packages (from scikit-learn) (1.21.6)\n",
            "Requirement already satisfied: scipy>=1.1.0 in /usr/local/lib/python3.7/dist-packages (from scikit-learn) (1.7.3)\n",
            "Requirement already satisfied: threadpoolctl>=2.0.0 in /usr/local/lib/python3.7/dist-packages (from scikit-learn) (3.1.0)\n"
          ]
        }
      ],
      "source": [
        "!pip install nltk\n",
        "!pip install scikit-learn"
      ]
    },
    {
      "cell_type": "code",
      "source": [
        "\n",
        "text = \"Paleontology and neontology. In the language of neontology, I am an intelligent, carbon based, extant species of questionable origin.\""
      ],
      "metadata": {
        "id": "GUGzIiu3GiAo"
      },
      "execution_count": 74,
      "outputs": []
    },
    {
      "cell_type": "code",
      "source": [
        "import nltk\n",
        "\n",
        "\n",
        "Tokens = nltk.word_tokenize(text)\n",
        "output = list(nltk.bigrams(Tokens))\n",
        "print(output)"
      ],
      "metadata": {
        "colab": {
          "base_uri": "https://localhost:8080/"
        },
        "id": "FoNNCp8cxJX3",
        "outputId": "ad53566f-0fef-466c-d027-a39894d56121"
      },
      "execution_count": 75,
      "outputs": [
        {
          "output_type": "stream",
          "name": "stdout",
          "text": [
            "[('Paleontology', 'and'), ('and', 'neontology'), ('neontology', '.'), ('.', 'In'), ('In', 'the'), ('the', 'language'), ('language', 'of'), ('of', 'neontology'), ('neontology', ','), (',', 'I'), ('I', 'am'), ('am', 'an'), ('an', 'intelligent'), ('intelligent', ','), (',', 'carbon'), ('carbon', 'based'), ('based', ','), (',', 'extant'), ('extant', 'species'), ('species', 'of'), ('of', 'questionable'), ('questionable', 'origin'), ('origin', '.')]\n"
          ]
        }
      ]
    },
    {
      "cell_type": "code",
      "source": [
        "from collections import Counter\n",
        "\n",
        "lower_case = text.lower()\n",
        "tokens = nltk.word_tokenize(lower_case)\n",
        "tags = nltk.pos_tag(tokens)\n",
        "counts = Counter( tag for word,  tag in tags)\n",
        "print(counts)"
      ],
      "metadata": {
        "colab": {
          "base_uri": "https://localhost:8080/"
        },
        "id": "27gbyX5cHz3s",
        "outputId": "f75eb1c5-5e58-4305-a43e-463f443c84e3"
      },
      "execution_count": 76,
      "outputs": [
        {
          "output_type": "stream",
          "name": "stdout",
          "text": [
            "Counter({'NN': 8, 'IN': 3, ',': 3, '.': 2, 'DT': 2, 'JJ': 2, 'CC': 1, 'VBP': 1, 'VBN': 1, 'NNS': 1})\n"
          ]
        }
      ]
    },
    {
      "cell_type": "code",
      "source": [
        "from nltk import pos_tag\n",
        "from nltk import RegexpParser\n",
        "text = lower_case.split()\n",
        "!print(\"After Split:\",text)\n",
        "tokens_tag = pos_tag(text)\n",
        "list_of_tuples = tokens_tag\n",
        "print(\"After Token:\",tokens_tag)"
      ],
      "metadata": {
        "colab": {
          "base_uri": "https://localhost:8080/"
        },
        "id": "9PVo1zyaxvMt",
        "outputId": "97a3e11b-9eb8-489a-acc7-64e6b914c6be"
      },
      "execution_count": 77,
      "outputs": [
        {
          "output_type": "stream",
          "name": "stdout",
          "text": [
            "/bin/bash: -c: line 0: syntax error near unexpected token `\"After Split:\",text'\n",
            "/bin/bash: -c: line 0: `print(\"After Split:\",text)'\n",
            "After Token: [('paleontology', 'NN'), ('and', 'CC'), ('neontology.', 'NN'), ('in', 'IN'), ('the', 'DT'), ('language', 'NN'), ('of', 'IN'), ('neontology,', 'NN'), ('i', 'NN'), ('am', 'VBP'), ('an', 'DT'), ('intelligent,', 'NN'), ('carbon', 'NN'), ('based,', 'NN'), ('extant', 'JJ'), ('species', 'NNS'), ('of', 'IN'), ('questionable', 'JJ'), ('origin.', 'NN')]\n"
          ]
        }
      ]
    },
    {
      "cell_type": "code",
      "source": [
        "\n",
        "from google.colab import files\n",
        "\n",
        "\n",
        "with open('example.txt', 'w', encoding='utf-8') as f:\n",
        "    f.write('\\n'.join(f'{tup[0]} {tup[1]}' for tup in list_of_tuples))\n",
        "\n",
        "files.download('example.txt')"
      ],
      "metadata": {
        "colab": {
          "base_uri": "https://localhost:8080/",
          "height": 17
        },
        "id": "cXxgr-LZFD9a",
        "outputId": "9aca9872-062f-44ca-8bd8-c0668cbff9f1"
      },
      "execution_count": 78,
      "outputs": [
        {
          "output_type": "display_data",
          "data": {
            "text/plain": [
              "<IPython.core.display.Javascript object>"
            ],
            "application/javascript": [
              "\n",
              "    async function download(id, filename, size) {\n",
              "      if (!google.colab.kernel.accessAllowed) {\n",
              "        return;\n",
              "      }\n",
              "      const div = document.createElement('div');\n",
              "      const label = document.createElement('label');\n",
              "      label.textContent = `Downloading \"${filename}\": `;\n",
              "      div.appendChild(label);\n",
              "      const progress = document.createElement('progress');\n",
              "      progress.max = size;\n",
              "      div.appendChild(progress);\n",
              "      document.body.appendChild(div);\n",
              "\n",
              "      const buffers = [];\n",
              "      let downloaded = 0;\n",
              "\n",
              "      const channel = await google.colab.kernel.comms.open(id);\n",
              "      // Send a message to notify the kernel that we're ready.\n",
              "      channel.send({})\n",
              "\n",
              "      for await (const message of channel.messages) {\n",
              "        // Send a message to notify the kernel that we're ready.\n",
              "        channel.send({})\n",
              "        if (message.buffers) {\n",
              "          for (const buffer of message.buffers) {\n",
              "            buffers.push(buffer);\n",
              "            downloaded += buffer.byteLength;\n",
              "            progress.value = downloaded;\n",
              "          }\n",
              "        }\n",
              "      }\n",
              "      const blob = new Blob(buffers, {type: 'application/binary'});\n",
              "      const a = document.createElement('a');\n",
              "      a.href = window.URL.createObjectURL(blob);\n",
              "      a.download = filename;\n",
              "      div.appendChild(a);\n",
              "      a.click();\n",
              "      div.remove();\n",
              "    }\n",
              "  "
            ]
          },
          "metadata": {}
        },
        {
          "output_type": "display_data",
          "data": {
            "text/plain": [
              "<IPython.core.display.Javascript object>"
            ],
            "application/javascript": [
              "download(\"download_3f7ae858-c925-4397-8972-f4a036c4eceb\", \"example.txt\", 192)"
            ]
          },
          "metadata": {}
        }
      ]
    }
  ]
}
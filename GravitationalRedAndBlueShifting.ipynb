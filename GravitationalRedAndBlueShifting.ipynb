{
  "nbformat": 4,
  "nbformat_minor": 0,
  "metadata": {
    "colab": {
      "provenance": [],
      "authorship_tag": "ABX9TyP5FArAdgJFOizqYPEeWF2Z",
      "include_colab_link": true
    },
    "kernelspec": {
      "name": "python3",
      "display_name": "Python 3"
    },
    "language_info": {
      "name": "python"
    }
  },
  "cells": [
    {
      "cell_type": "markdown",
      "metadata": {
        "id": "view-in-github",
        "colab_type": "text"
      },
      "source": [
        "<a href=\"https://colab.research.google.com/github/RickeyEstes2/Public/blob/main/GravitationalRedAndBlueShifting.ipynb\" target=\"_parent\"><img src=\"https://colab.research.google.com/assets/colab-badge.svg\" alt=\"Open In Colab\"/></a>"
      ]
    },
    {
      "cell_type": "markdown",
      "source": [
        "\n",
        "I asked ChatGPT:\n",
        "\n",
        "What induces gravitational redshifting and gravitational blueshifting, in the observable universe?\n",
        "\n",
        "ChatGPT replied:\n",
        "\n",
        "Gravitational redshifting and blueshifting are caused by the curvature of spacetime caused by massive objects such as black holes and stars. This curvature causes the light from distant objects to be bent, resulting in a shift in the frequency of the light. Redshifting occurs when the light is shifted to lower frequencies, and blueshifting occurs when the light is shifted to higher frequencies."
      ],
      "metadata": {
        "id": "OeBFuq4TJ8YT"
      }
    },
    {
      "cell_type": "markdown",
      "source": [
        "I asked ChatGPT:\n",
        "Write the gravitational redshifting and gravitational blueshifting equations using Jupyter notebook amd LaTeX.\n",
        "\n",
        "ChatGPT replied:\n",
        "The gravitational redshifting equation is given by:\n",
        "$$\\frac{\\lambda_{\\mathrm{obs}}}{\\lambda_{\\mathrm{emit}}} = \\sqrt{\\frac{1 - \\frac{2GM}{rc^2}}{1 + \\frac{2GM}{rc^2}}}$$\n",
        "\n",
        "The gravitational blueshifting equation is given by:\n",
        "\n",
        "$$\\frac{\\lambda_{\\mathrm{obs}}}{\\lambda_{\\mathrm{emit}}} = \\sqrt{\\frac{1 + \\frac{2GM}{rc^2}}{1 - \\frac{2GM}{rc^2}}}$$"
      ],
      "metadata": {
        "id": "gTOxjsiGI3m0"
      }
    },
    {
      "cell_type": "markdown",
      "source": [
        "I asked ChatGPT:\n",
        "Write a Python program to compute gravitational blueshifting and gravitational redshifting.\n",
        "\n",
        "ChatGPT replied:"
      ],
      "metadata": {
        "id": "6ZlIPQcdIyw5"
      }
    },
    {
      "cell_type": "code",
      "source": [
        "\n",
        "import math\n",
        "\n",
        "# Gravitational Blueshifting\n",
        "\n",
        "# Calculate the frequency of the light coming from a source\n",
        "frequency = float(input(\"Enter the frequency of the light coming from the source: \"))\n",
        "\n",
        "# Calculate the mass of the source\n",
        "mass = float(input(\"Enter the mass of the source: \"))\n",
        "\n",
        "# Calculate the distance from the source\n",
        "distance = float(input(\"Enter the distance from the source: \"))\n",
        "\n",
        "# Calculate the speed of light\n",
        "c = 3.0 * 10**8\n",
        "\n",
        "# Calculate the gravitational blueshift\n",
        "blueshift = frequency * math.sqrt(1 - (2 * (mass * 6.67 * 10**-11) / (distance * c**2)))\n",
        "\n",
        "# Output the result\n",
        "print(\"The gravitational blueshift is:\", blueshift, \"Hz\")"
      ],
      "metadata": {
        "colab": {
          "base_uri": "https://localhost:8080/"
        },
        "id": "8viAaDE5HsqQ",
        "outputId": "f02adc79-51b8-4935-dda9-802812ae4a11"
      },
      "execution_count": null,
      "outputs": [
        {
          "output_type": "stream",
          "name": "stdout",
          "text": [
            "Enter the frequency of the light coming from the source: 450\n",
            "Enter the mass of the source: 100\n",
            "Enter the distance from the source: 10000\n",
            "The gravitational blueshift is: 450.0 Hz\n"
          ]
        }
      ]
    },
    {
      "cell_type": "code",
      "source": [
        "# Gravitational Redshifting\n",
        "\n",
        "# Calculate the frequency of the light coming from a source\n",
        "frequency = float(input(\"Enter the frequency of the light coming from the source: \"))\n",
        "\n",
        "# Calculate the mass of the source\n",
        "mass = float(input(\"Enter the mass of the source: \"))\n",
        "\n",
        "# Calculate the distance from the source\n",
        "distance = float(input(\"Enter the distance from the source: \"))\n",
        "\n",
        "# Calculate the speed of light\n",
        "c = 3.0 * 10**8\n",
        "\n",
        "# Calculate the gravitational redshift\n",
        "redshift = frequency * math.sqrt(1 + (2 * (mass * 6.67 * 10**-11) / (distance * c**2)))\n",
        "\n",
        "# Output the result\n",
        "print(\"The gravitational redshift is:\", redshift, \"Hz\")"
      ],
      "metadata": {
        "id": "Lnt356ypJXZO"
      },
      "execution_count": null,
      "outputs": []
    },
    {
      "cell_type": "markdown",
      "source": [
        "\n",
        "[Wavelength of Blue and Red Light](https://scied.ucar.edu/image/wavelength-blue-and-red-light-image#:~:text=Blue%20light%20has%20shorter%20waves,more%20energy%20than%20red%20light.)"
      ],
      "metadata": {
        "id": "HBFlNggeK-J6"
      }
    }
  ]
}
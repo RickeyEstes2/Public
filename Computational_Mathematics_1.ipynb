{
  "nbformat": 4,
  "nbformat_minor": 0,
  "metadata": {
    "colab": {
      "provenance": [],
      "authorship_tag": "ABX9TyPcmwXvKBlF11ka5FXJcDJz",
      "include_colab_link": true
    },
    "kernelspec": {
      "name": "python3",
      "display_name": "Python 3"
    },
    "language_info": {
      "name": "python"
    }
  },
  "cells": [
    {
      "cell_type": "markdown",
      "metadata": {
        "id": "view-in-github",
        "colab_type": "text"
      },
      "source": [
        "<a href=\"https://colab.research.google.com/github/RickeyEstes2/Public/blob/main/Computational_Mathematics_1.ipynb\" target=\"_parent\"><img src=\"https://colab.research.google.com/assets/colab-badge.svg\" alt=\"Open In Colab\"/></a>"
      ]
    },
    {
      "cell_type": "code",
      "source": [
        "\n",
        "phi = 1.618033988749894\n",
        "c = 3 * 10^8\n",
        "m = 100\n",
        "x = 10\n",
        "A = x**(1/phi)\n",
        "B = x**(1/(m * c**2))"
      ],
      "metadata": {
        "id": "sPFU0leaB1uC"
      },
      "execution_count": null,
      "outputs": []
    },
    {
      "cell_type": "markdown",
      "source": [
        "$\\Huge\n",
        "\\sqrt[\\phi]{x} = x^{\\frac 1 \\phi}\n",
        "$"
      ],
      "metadata": {
        "id": "mqJqaVtq2rIG"
      }
    },
    {
      "cell_type": "code",
      "source": [
        "A"
      ],
      "metadata": {
        "colab": {
          "base_uri": "https://localhost:8080/"
        },
        "id": "tbnAKau_AZ2f",
        "outputId": "e032e06f-920a-4b4d-e12d-c47d50c53b03"
      },
      "execution_count": null,
      "outputs": [
        {
          "output_type": "execute_result",
          "data": {
            "text/plain": [
              "4.149865190338331"
            ]
          },
          "metadata": {},
          "execution_count": 23
        }
      ]
    }
  ]
}
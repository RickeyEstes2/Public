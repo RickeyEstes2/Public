{
  "nbformat": 4,
  "nbformat_minor": 0,
  "metadata": {
    "colab": {
      "provenance": [],
      "authorship_tag": "ABX9TyPzrA7133qgOY//AVevhG/Z",
      "include_colab_link": true
    },
    "kernelspec": {
      "name": "python3",
      "display_name": "Python 3"
    },
    "language_info": {
      "name": "python"
    }
  },
  "cells": [
    {
      "cell_type": "markdown",
      "metadata": {
        "id": "view-in-github",
        "colab_type": "text"
      },
      "source": [
        "<a href=\"https://colab.research.google.com/github/RickeyEstes2/Public/blob/main/Text2LaTeX.ipynb\" target=\"_parent\"><img src=\"https://colab.research.google.com/assets/colab-badge.svg\" alt=\"Open In Colab\"/></a>"
      ]
    },
    {
      "cell_type": "code",
      "execution_count": 2,
      "metadata": {
        "id": "4m02v8CAThkE"
      },
      "outputs": [],
      "source": [
        "import re\n",
        "from IPython.display import Latex\n",
        "\n",
        "def text_to_latex(text):\n",
        "    # Replace ^ with \\hat{}\n",
        "    latex = re.sub(r'\\^', r'^', text)\n",
        "    \n",
        "    # Replace _ with \\_\n",
        "    latex = re.sub(r'_', r'_', latex)\n",
        "    \n",
        "    # Replace * with \\cdot\n",
        "    latex = re.sub(r'\\*', r'*', latex)\n",
        "    \n",
        "    # Replace / with \\frac{}{}\n",
        "    latex = re.sub(r'/', r'frac{}{}', latex)\n",
        "    \n",
        "    # Replace ( and ) with \\left( and \\right)\n",
        "    latex = re.sub(r'\\(', r'left(', latex)\n",
        "    latex = re.sub(r'\\)', r'right)', latex)\n",
        "    \n",
        "    # Replace sqrt with \\sqrt{}\n",
        "    latex = re.sub(r'sqrt', r'sqrt{}', latex)\n",
        "    \n",
        "    # Replace sin, cos, and tan with \\sin, \\cos, and \\tan\n",
        "    latex = re.sub(r'sin', r'sin', latex)\n",
        "    latex = re.sub(r'cos', r'cos', latex)\n",
        "    latex = re.sub(r'tan', r'tan', latex)\n",
        "    \n",
        "    return latex"
      ]
    },
    {
      "cell_type": "code",
      "source": [
        "\n",
        "text = \"a^2 + b^2 * 6 + b_4 = c^2\"\n",
        "Latex(text_to_latex(text))"
      ],
      "metadata": {
        "colab": {
          "base_uri": "https://localhost:8080/",
          "height": 38
        },
        "id": "HOzS92yCToEP",
        "outputId": "bbbcbea2-7e1b-4a56-9455-f174bc627bbc"
      },
      "execution_count": 3,
      "outputs": [
        {
          "output_type": "execute_result",
          "data": {
            "text/plain": [
              "<IPython.core.display.Latex object>"
            ],
            "text/latex": "a^2 + b^2 * 6 + b_4 = c^2"
          },
          "metadata": {},
          "execution_count": 3
        }
      ]
    }
  ]
}
{
  "nbformat": 4,
  "nbformat_minor": 0,
  "metadata": {
    "colab": {
      "provenance": [],
      "authorship_tag": "ABX9TyOfoaJBuU54+b6V3Gd2hduC",
      "include_colab_link": true
    },
    "kernelspec": {
      "name": "python3",
      "display_name": "Python 3"
    },
    "language_info": {
      "name": "python"
    }
  },
  "cells": [
    {
      "cell_type": "markdown",
      "metadata": {
        "id": "view-in-github",
        "colab_type": "text"
      },
      "source": [
        "<a href=\"https://colab.research.google.com/github/RickeyEstes2/Public/blob/main/Eq2.ipynb\" target=\"_parent\"><img src=\"https://colab.research.google.com/assets/colab-badge.svg\" alt=\"Open In Colab\"/></a>"
      ]
    },
    {
      "cell_type": "code",
      "execution_count": null,
      "metadata": {
        "id": "IZgaTqb0csfn"
      },
      "outputs": [],
      "source": []
    },
    {
      "cell_type": "markdown",
      "source": [
        "\n",
        "\\begin{equation}\n",
        "\\int_0^{\\infty} e^{-\\frac{x^2}{4}} \\cos\\left(\\begin{bmatrix} 0 & 1 & 1 \\\\ 0 & 0 & 1 \\\\ 0 & 0 & 0 \\end{bmatrix}x\\right) \\, dx\n",
        "\\end{equation}"
      ],
      "metadata": {
        "id": "7CK6o9lrc_ay"
      }
    },
    {
      "cell_type": "markdown",
      "source": [],
      "metadata": {
        "id": "E5ucjyb1c9C5"
      }
    },
    {
      "cell_type": "markdown",
      "source": [
        "We start by writing the integral in terms of the exponential function and the matrix:\n",
        "\n",
        "\\begin{equation}\n",
        "\\int_0^{\\infty} e^{-\\frac{x^2}{4} - \\begin{bmatrix} 0 & 1 & 1 \\\\ 0 & 0 & 1 \\\\ 0 & 0 & 0 \\end{bmatrix}x} \\, dx\n",
        "\\end{equation}"
      ],
      "metadata": {
        "id": "-A0BwL78dZum"
      }
    },
    {
      "cell_type": "markdown",
      "source": [
        "We can then use the identity $\\int e^{ax} \\, dx = \\frac{1}{a}e^{ax} + C$ to solve the integral:"
      ],
      "metadata": {
        "id": "vjNPINQkdgLG"
      }
    },
    {
      "cell_type": "markdown",
      "source": [
        "\\begin{equation}\n",
        "\\int_0^{\\infty} e^{-\\frac{x^2}{4} - \\begin{bmatrix} 0 & 1 & 1 \\\\ 0 & 0 & 1 \\\\ 0 & 0 & 0 \\end{bmatrix}x} \\, dx\n",
        "\\end{equation}"
      ],
      "metadata": {
        "id": "YGja2ss_f5Zg"
      }
    },
    {
      "cell_type": "markdown",
      "source": [
        "."
      ],
      "metadata": {
        "id": "6G-LXitlhAdH"
      }
    },
    {
      "cell_type": "markdown",
      "source": [
        "\\begin{equation}\n",
        "\\ = \\frac{1}{-\\frac{1}{4} - \\begin{bmatrix} 0 & 1 & 1 \\\\ 0 & 0 & 1 \\\\ 0 & 0 & 0 \\end{bmatrix}} e^{-\\frac{x^2}{4} - \\begin{bmatrix} 0 & 1 & 1 \\\\ 0 & 0 & 1 \\\\ 0 & 0 & 0 \\end{bmatrix}x} \\Biggr\\rvert_0^{\\infty}\n",
        "\\end{equation}"
      ],
      "metadata": {
        "id": "9JgS_THggfRI"
      }
    },
    {
      "cell_type": "markdown",
      "source": [
        "."
      ],
      "metadata": {
        "id": "dj9lqyvrhIcR"
      }
    },
    {
      "cell_type": "markdown",
      "source": [
        "The integral is then equal to:\n",
        "\n",
        "\\begin{equation}\\small\n",
        "\\frac{1}{-\\frac{1}{4} - \\begin{bmatrix} 0 & 1 & 1 \\\\ 0 & 0 & 1 \\\\ 0 & 0 & 0 \\end{bmatrix}} \\left( e^{-\\frac{x^2}{4} - \\begin{bmatrix} 0 & 1 & 1 \\\\ 0 & 0 & 1 \\\\ 0 & 0 & 0 \\end{bmatrix} \\infty} - e^{-\\frac{x^2}{4} - \\begin{bmatrix} 0 & 1 & 1 \\\\ 0 & 0 & 1 \\\\ 0 & 0 & 0 \\end{bmatrix} 0} \\right)\n",
        "\\small\\end{equation}"
      ],
      "metadata": {
        "id": "1Wm2KizHhREU"
      }
    },
    {
      "cell_type": "markdown",
      "source": [
        "\n",
        "Therefore, the integral is equal to:\n",
        "\n",
        "\\begin{equation}\n",
        "\\int_0^{\\infty} e^{-\\frac{x^2}{4}} \\cos\\left(\\begin{bmatrix} 0 & 1 & 1 \\\\ 0 & 0 & 1 \\\\ 0 & 0 & 0 \\end{bmatrix}x\\right) \\, dx \n",
        "\\end{equation}"
      ],
      "metadata": {
        "id": "uKrYsWFurdYD"
      }
    },
    {
      "cell_type": "markdown",
      "source": [
        "."
      ],
      "metadata": {
        "id": "UWdrp12gwP5v"
      }
    },
    {
      "cell_type": "markdown",
      "source": [
        "."
      ],
      "metadata": {
        "id": "fayUsLo8wRJA"
      }
    },
    {
      "cell_type": "markdown",
      "source": [
        "\\begin{equation}\\huge\n",
        "= \\frac{e^{-\\frac{x^2}{4} - \\begin{bmatrix} 0 & 1 & 1 \\\\ 0 & 0 & 1 \\\\ 0 & 0 & 0 \\end{bmatrix} 0}}{-\\frac{1}{4} - \\begin{bmatrix} 0 & 1 & 1 \\\\ 0 & 0 & 1 \\\\ 0 & 0 & 0 \\end{bmatrix}}\n",
        "\\end{equation}"
      ],
      "metadata": {
        "id": "sup7PVYEtLWK"
      }
    },
    {
      "cell_type": "markdown",
      "source": [
        "."
      ],
      "metadata": {
        "id": "tAl1ItNPxRw5"
      }
    },
    {
      "cell_type": "markdown",
      "source": [
        "."
      ],
      "metadata": {
        "id": "TbQvr0NvxURu"
      }
    },
    {
      "cell_type": "markdown",
      "source": [
        "."
      ],
      "metadata": {
        "id": "7BhoZCjQxWK6"
      }
    }
  ]
}
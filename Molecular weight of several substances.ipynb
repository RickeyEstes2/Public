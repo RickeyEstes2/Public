{
  "nbformat": 4,
  "nbformat_minor": 0,
  "metadata": {
    "colab": {
      "provenance": [],
      "authorship_tag": "ABX9TyO/0DLYgPFnlcUBF6d+pWvv",
      "include_colab_link": true
    },
    "kernelspec": {
      "name": "python3",
      "display_name": "Python 3"
    },
    "language_info": {
      "name": "python"
    }
  },
  "cells": [
    {
      "cell_type": "markdown",
      "metadata": {
        "id": "view-in-github",
        "colab_type": "text"
      },
      "source": [
        "<a href=\"https://colab.research.google.com/github/RickeyEstes2/Public/blob/main/Molecular%20weight%20of%20several%20substances.ipynb\" target=\"_parent\"><img src=\"https://colab.research.google.com/assets/colab-badge.svg\" alt=\"Open In Colab\"/></a>"
      ]
    },
    {
      "cell_type": "code",
      "execution_count": null,
      "metadata": {
        "id": "faDaPEUKzId8"
      },
      "outputs": [],
      "source": [
        "massC = 12\n",
        "massH = 1\n",
        "massO = 16"
      ]
    },
    {
      "cell_type": "code",
      "source": [
        "nmolecules = int(input(\"How many molecules do you want to compute the molecular weight of?\")"
      ],
      "metadata": {
        "id": "NLhgPULm4rcd"
      },
      "execution_count": null,
      "outputs": []
    },
    {
      "cell_type": "code",
      "source": [
        "for i in range(0, nmolecules)\n",
        "    nC = int(input(\"Number of Carbons:\")\n",
        "    nH = int(input(\"Number of Hydrogens:\")\n",
        "    nO = int(input(\"Number of Oxygens:\")"
      ],
      "metadata": {
        "id": "4k-y5xn95Yed"
      },
      "execution_count": null,
      "outputs": []
    }
  ]
}